{
 "cells": [
  {
   "cell_type": "code",
   "execution_count": 1,
   "metadata": {},
   "outputs": [],
   "source": [
    "# demonstrating Google AutoML by training a sentiment analyzer model using course reviews of students on Coursera\n",
    "# # dataset retreived from Kaggle https://www.kaggle.com/septa97/100k-courseras-course-reviews-dataset"
   ]
  },
  {
   "cell_type": "code",
   "execution_count": 2,
   "metadata": {},
   "outputs": [],
   "source": [
    "import pandas as pd"
   ]
  },
  {
   "cell_type": "code",
   "execution_count": 3,
   "metadata": {},
   "outputs": [],
   "source": [
    "dataset_file = \"100k-courseras-course-reviews-dataset/reviews_by_course.csv\""
   ]
  },
  {
   "cell_type": "code",
   "execution_count": 4,
   "metadata": {},
   "outputs": [],
   "source": [
    "data = pd.read_csv(dataset_file)"
   ]
  },
  {
   "cell_type": "code",
   "execution_count": 5,
   "metadata": {},
   "outputs": [
    {
     "name": "stdout",
     "output_type": "stream",
     "text": [
      "count    140320.000000\n",
      "mean          4.619185\n",
      "std           0.821347\n",
      "min           1.000000\n",
      "25%           5.000000\n",
      "50%           5.000000\n",
      "75%           5.000000\n",
      "max           5.000000\n",
      "Name: Label, dtype: float64\n"
     ]
    }
   ],
   "source": [
    "print (data.Label.describe())"
   ]
  },
  {
   "cell_type": "code",
   "execution_count": 6,
   "metadata": {},
   "outputs": [
    {
     "name": "stdout",
     "output_type": "stream",
     "text": [
      "     CourseId                                             Review  Label\n",
      "0  2-speed-it                                             BOring      1\n",
      "1  2-speed-it                                            Bravo !      5\n",
      "2  2-speed-it                                           Very goo      5\n",
      "3  2-speed-it  Great course - I recommend it for all, especia...      5\n",
      "4  2-speed-it    One of the most useful course on IT Management!      5\n"
     ]
    }
   ],
   "source": [
    "print (data.head())"
   ]
  },
  {
   "cell_type": "code",
   "execution_count": 7,
   "metadata": {},
   "outputs": [],
   "source": [
    "Y = data.Label\n",
    "X = data.drop('Label', axis=1)"
   ]
  },
  {
   "cell_type": "code",
   "execution_count": 8,
   "metadata": {},
   "outputs": [],
   "source": [
    "from google.cloud import automl_v1beta1 as automl"
   ]
  },
  {
   "cell_type": "code",
   "execution_count": 9,
   "metadata": {},
   "outputs": [],
   "source": [
    "# google cloud project information\n",
    "project_id = 'automltarek'\n",
    "compute_region = 'us-central1'\n",
    "dataset_name = 'coursera_reviews'\n",
    "multilabel = True"
   ]
  },
  {
   "cell_type": "code",
   "execution_count": 10,
   "metadata": {},
   "outputs": [
    {
     "name": "stdout",
     "output_type": "stream",
     "text": [
      "Dataset name: projects/594223496258/locations/us-central1/datasets/TCN4741386458792227252\n",
      "Dataset id: TCN4741386458792227252\n",
      "Dataset display name: coursera_reviews\n",
      "Text classification dataset metadata:\n",
      "\tclassification_type: MULTILABEL\n",
      "\n",
      "Dataset example count: 0\n",
      "Dataset create time:\n",
      "\tseconds: 1544556511\n",
      "\tnanos: 631486000\n"
     ]
    }
   ],
   "source": [
    "from google.cloud import automl_v1beta1 as automl\n",
    "\n",
    "client = automl.AutoMlClient()\n",
    "\n",
    "# A resource that represents Google Cloud Platform location.\n",
    "project_location = client.location_path(project_id, compute_region)\n",
    "\n",
    "# Classification type is assigned based on multilabel value.\n",
    "classification_type = \"MULTICLASS\"\n",
    "if multilabel:\n",
    "    classification_type = \"MULTILABEL\"\n",
    "\n",
    "# Specify the text classification type for the dataset.\n",
    "dataset_metadata = {\"classification_type\": classification_type}\n",
    "\n",
    "# Set dataset name and metadata.\n",
    "my_dataset = {\n",
    "    \"display_name\": dataset_name,\n",
    "    \"text_classification_dataset_metadata\": dataset_metadata,\n",
    "}\n",
    "\n",
    "# Create a dataset with the dataset metadata in the region.\n",
    "dataset = client.create_dataset(project_location, my_dataset)\n",
    "\n",
    "# Display the dataset information.\n",
    "print(\"Dataset name: {}\".format(dataset.name))\n",
    "print(\"Dataset id: {}\".format(dataset.name.split(\"/\")[-1]))\n",
    "print(\"Dataset display name: {}\".format(dataset.display_name))\n",
    "print(\"Text classification dataset metadata:\")\n",
    "print(\"\\t{}\".format(dataset.text_classification_dataset_metadata))\n",
    "print(\"Dataset example count: {}\".format(dataset.example_count))\n",
    "print(\"Dataset create time:\")\n",
    "print(\"\\tseconds: {}\".format(dataset.create_time.seconds))\n",
    "print(\"\\tnanos: {}\".format(dataset.create_time.nanos))"
   ]
  },
  {
   "cell_type": "code",
   "execution_count": null,
   "metadata": {},
   "outputs": [],
   "source": [
    "# import the data \n",
    "path = 'gs://automltarek-lcm/coursera_reviews/reviews_course_mod.csv'\n",
    "dataset_id = \"TCN4741386458792227252\"\n",
    "# Get the full path of the dataset.\n",
    "dataset_full_id = client.dataset_path(\n",
    "    project_id, compute_region, dataset_id\n",
    ")\n",
    "\n",
    "# Get the multiple Google Cloud Storage URIs.\n",
    "input_uris = path.split(\",\")\n",
    "input_config = {\"gcs_source\": {\"input_uris\": input_uris}}\n",
    "\n",
    "# Import the dataset from the input URI.\n",
    "response = client.import_data(dataset_full_id, input_config)\n",
    "\n",
    "print(\"Processing import...\")\n",
    "# synchronous check of operation status.\n",
    "print(\"Data imported. {}\".format(response.result()))"
   ]
  },
  {
   "cell_type": "code",
   "execution_count": null,
   "metadata": {},
   "outputs": [],
   "source": []
  }
 ],
 "metadata": {
  "kernelspec": {
   "display_name": "Python 3",
   "language": "python",
   "name": "python3"
  },
  "language_info": {
   "codemirror_mode": {
    "name": "ipython",
    "version": 3
   },
   "file_extension": ".py",
   "mimetype": "text/x-python",
   "name": "python",
   "nbconvert_exporter": "python",
   "pygments_lexer": "ipython3",
   "version": "3.7.1"
  }
 },
 "nbformat": 4,
 "nbformat_minor": 2
}
